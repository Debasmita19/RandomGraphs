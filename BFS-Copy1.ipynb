{
 "cells": [
  {
   "cell_type": "code",
   "execution_count": 2,
   "id": "baf0a03c",
   "metadata": {},
   "outputs": [],
   "source": [
    "#Importing all the necessary libraries\n",
    "import matplotlib.pyplot as plt\n",
    "import networkx as nx\n",
    "import random\n",
    "import numpy as np\n",
    "import time\n",
    "import math\n",
    "from __future__ import print_function\n",
    "from ipywidgets import interact, interactive, fixed, interact_manual\n",
    "import ipywidgets as widgets\n",
    "import pandas as pd\n",
    "import os\n",
    "import queue\n",
    "\n"
   ]
  },
  {
   "cell_type": "code",
   "execution_count": 3,
   "id": "adc7f992",
   "metadata": {},
   "outputs": [],
   "source": [
    "'''\n",
    "vertex generator generates each individual with their properties\n",
    "'''\n",
    "def gen_vertex(n):\n",
    "    ver_list=[]\n",
    "    c=0\n",
    "\n",
    "    for i in range(n):\n",
    "      vertex = {\n",
    "                'index': c, \t\t\t# the unique index of the individual\n",
    "                'connected': [] ,  # the small world connections between the individuals\n",
    "                }\n",
    "      ver_list.append(vertex)\n",
    "      c+=1\n",
    "    return ver_list"
   ]
  },
  {
   "cell_type": "code",
   "execution_count": 4,
   "id": "d004ff1a",
   "metadata": {},
   "outputs": [],
   "source": [
    "'''\n",
    "Generating the Small World Network\n",
    "'''\n",
    "n=10\n",
    "def gen_graph(n): #k=no of connected components\n",
    "   population = gen_vertex(n)\n",
    "   d=3\n",
    "   G = nx.random_regular_graph(d, n, seed=None)\n",
    "   return G\n"
   ]
  },
  {
   "cell_type": "code",
   "execution_count": 5,
   "id": "98b372d5",
   "metadata": {},
   "outputs": [],
   "source": [
    "def bfs(G, start):\n",
    "     path = []\n",
    "     queue = [start]\n",
    "     while queue:\n",
    "         vertex = queue.pop(0)\n",
    "         if vertex not in path:\n",
    "             path.append(vertex)\n",
    "             queue.extend(graph[vertex])\n",
    "     return path\n",
    " \n",
    "# print bfs(graph, 0)"
   ]
  },
  {
   "cell_type": "code",
   "execution_count": 6,
   "id": "85334c0a",
   "metadata": {},
   "outputs": [
    {
     "name": "stdout",
     "output_type": "stream",
     "text": [
      "Nodes   Level\n",
      "  0  -->  0\n",
      "  1  -->  1\n",
      "  2  -->  2\n",
      "  3  -->  1\n",
      "  4  -->  3\n",
      "  5  -->  2\n",
      "  6  -->  2\n",
      "  7  -->  1\n",
      "  8  -->  2\n",
      "  9  -->  2\n"
     ]
    }
   ],
   "source": [
    "import networkx as nx\n",
    "import queue\n",
    "\n",
    "def gen_vertex(n):\n",
    "    ver_list = []\n",
    "    c = 0\n",
    "\n",
    "    for i in range(n):\n",
    "        vertex = {\n",
    "            'index': c,\n",
    "            'connected': [] ,\n",
    "        }\n",
    "        ver_list.append(vertex)\n",
    "        c += 1\n",
    "    return ver_list\n",
    "\n",
    "def gen_graph(n):\n",
    "    population = gen_vertex(n)\n",
    "    d = 3\n",
    "    G = nx.random_regular_graph(d, n, seed=None)\n",
    "    return G\n",
    "\n",
    "def bfs(G, start):\n",
    "    path = []\n",
    "    queue = [start]\n",
    "    while queue:\n",
    "        vertex = queue.pop(0)\n",
    "        if vertex not in path:\n",
    "            path.append(vertex)\n",
    "            queue.extend(G[vertex])\n",
    "    return path\n",
    "\n",
    "def printLevels(G, V, x):\n",
    "    level = [None] * V\n",
    "    marked = [False] * V\n",
    "\n",
    "    que = queue.Queue()\n",
    "\n",
    "    que.put(x)\n",
    "\n",
    "    level[x] = 0\n",
    "\n",
    "    marked[x] = True\n",
    "\n",
    "    while not que.empty():\n",
    "        x = que.get()\n",
    "        for b in G.neighbors(x):\n",
    "            if not marked[b]:\n",
    "                que.put(b)\n",
    "                level[b] = level[x] + 1\n",
    "                marked[b] = True\n",
    "\n",
    "    print(\"Nodes\", \" \", \"Level\")\n",
    "    for i in range(V):\n",
    "        print(\" \", i, \" --> \", level[i])\n",
    "\n",
    "\n",
    "\n",
    "\n",
    "\n",
    "\n",
    "n = 10  #no.of nodes in the tree..\n",
    "G = gen_graph(n)  # generate network \n",
    "\n",
    "\n",
    "start_node = 0 # starting node for BFS\n",
    "\n",
    "printLevels(G, n, start_node)\n",
    "\n",
    "\n"
   ]
  },
  {
   "cell_type": "code",
   "execution_count": null,
   "id": "20a85d37",
   "metadata": {},
   "outputs": [],
   "source": [
    "\n"
   ]
  },
  {
   "cell_type": "code",
   "execution_count": null,
   "id": "d3cd3f04",
   "metadata": {},
   "outputs": [],
   "source": []
  }
 ],
 "metadata": {
  "kernelspec": {
   "display_name": "Python 3 (ipykernel)",
   "language": "python",
   "name": "python3"
  },
  "language_info": {
   "codemirror_mode": {
    "name": "ipython",
    "version": 3
   },
   "file_extension": ".py",
   "mimetype": "text/x-python",
   "name": "python",
   "nbconvert_exporter": "python",
   "pygments_lexer": "ipython3",
   "version": "3.10.9"
  }
 },
 "nbformat": 4,
 "nbformat_minor": 5
}
