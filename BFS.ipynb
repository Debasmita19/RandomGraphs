{
 "cells": [
  {
   "cell_type": "code",
   "execution_count": 16,
   "id": "baf0a03c",
   "metadata": {},
   "outputs": [],
   "source": [
    "#Importing all the necessary libraries\n",
    "import matplotlib.pyplot as plt\n",
    "import networkx as nx\n",
    "import random\n",
    "import numpy as np\n",
    "import time\n",
    "import math\n",
    "from __future__ import print_function\n",
    "from ipywidgets import interact, interactive, fixed, interact_manual\n",
    "import ipywidgets as widgets\n",
    "import pandas as pd\n",
    "import os\n",
    "import queue\n"
   ]
  },
  {
   "cell_type": "code",
   "execution_count": 17,
   "id": "adc7f992",
   "metadata": {},
   "outputs": [],
   "source": [
    "'''\n",
    "vertex generator generates each individual with their properties\n",
    "'''\n",
    "\n",
    "def gen_vertex(n):\n",
    "    ver_list=[]\n",
    "    c=0\n",
    "\n",
    "    for i in range(n):\n",
    "      vertex = {\n",
    "                'index': c, \t\t\t# the unique index of the individual\n",
    "                'connected': [] ,  # the small world connections between the individuals\n",
    "                }\n",
    "      ver_list.append(vertex)\n",
    "      c+=1\n",
    "    return ver_list"
   ]
  },
  {
   "cell_type": "code",
   "execution_count": 18,
   "id": "d004ff1a",
   "metadata": {},
   "outputs": [],
   "source": [
    "'''\n",
    "Generating the Small World Network\n",
    "'''\n",
    "\n",
    "def gen_graph(n): #k=no of connected components\n",
    "   population = gen_vertex(n)\n",
    "   d=3\n",
    "   G = nx.random_regular_graph(d, n, seed=None)\n",
    "   return G\n"
   ]
  },
  {
   "cell_type": "code",
   "execution_count": 19,
   "id": "98b372d5",
   "metadata": {},
   "outputs": [],
   "source": [
    "def bfs(graph, start):\n",
    "     path = []\n",
    "     queue = [start]\n",
    "     while queue:\n",
    "         vertex = queue.pop(0)\n",
    "         if vertex not in path:\n",
    "             path.append(vertex)\n",
    "             queue.extend(graph[vertex])\n",
    "     return path\n",
    " \n",
    "# print bfs(graph, 0)"
   ]
  },
  {
   "cell_type": "code",
   "execution_count": 11,
   "id": "85334c0a",
   "metadata": {},
   "outputs": [],
   "source": [
    "#determine level of each node and print level\n",
    "\n",
    "#each node starting from x using BFS\n",
    "\n",
    "\n",
    "def printLevels(graph, V, x):\n",
    "# array to store level of each node\n",
    "    level = [None] * V\n",
    "    marked = [False] * V\n",
    "\n",
    "    que = queue.Queue()\n",
    "\n",
    "    que.put(x)\n",
    "\n",
    "    level[x] = 0\n",
    "\n",
    "    marked[x] = True\n",
    "\n",
    "    while (not que.empty()):\n",
    "        x = que.get()\n",
    "        for i in range(len(graph[x])):\n",
    "\n",
    "            b = graph[x][i]\n",
    "\n",
    "            if (not marked[b]):\n",
    "                que.put(b)\n",
    "\n",
    "                level[b] = level[x] + 1\n",
    "                marked[b] = True\n",
    "\n",
    "# display all nodes and their levels\n",
    "    print(\"Nodes\", \" \", \"Level\")\n",
    "    for i in range(V):\n",
    "        print(\" \", i, \" --> \", level[i])\n",
    "\n",
    "\n"
   ]
  },
  {
   "cell_type": "code",
   "execution_count": null,
   "id": "20a85d37",
   "metadata": {},
   "outputs": [],
   "source": []
  },
  {
   "cell_type": "code",
   "execution_count": null,
   "id": "d3cd3f04",
   "metadata": {},
   "outputs": [],
   "source": []
  }
 ],
 "metadata": {
  "kernelspec": {
   "display_name": "Python 3 (ipykernel)",
   "language": "python",
   "name": "python3"
  },
  "language_info": {
   "codemirror_mode": {
    "name": "ipython",
    "version": 3
   },
   "file_extension": ".py",
   "mimetype": "text/x-python",
   "name": "python",
   "nbconvert_exporter": "python",
   "pygments_lexer": "ipython3",
   "version": "3.10.9"
  }
 },
 "nbformat": 4,
 "nbformat_minor": 5
}
